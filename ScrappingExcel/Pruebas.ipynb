{
 "cells": [
  {
   "cell_type": "code",
   "execution_count": 34,
   "metadata": {},
   "outputs": [
    {
     "name": "stdout",
     "output_type": "stream",
     "text": [
      "HEX = FF00B050\n"
     ]
    },
    {
     "data": {
      "text/plain": [
       "<Cell 'SHASA MAN'.A1>"
      ]
     },
     "execution_count": 34,
     "metadata": {},
     "output_type": "execute_result"
    }
   ],
   "source": [
    "\n",
    "import xlrd\n",
    "import pandas as pd\n",
    "import os\n",
    "\n",
    "Directory = r\"C:\\Users\\fcolin\\Desktop\\HISTORICO 2019,2021, 2022\"\n",
    "os.chdir(Directory)\n",
    "files = os.listdir()\n",
    "\n",
    "\n",
    "import openpyxl\n",
    "from openpyxl import load_workbook\n",
    "# excel_file = 'color_codes.xlsx' \n",
    "excel_file = files[0]\n",
    "wb = load_workbook(excel_file, data_only = True)\n",
    "sh = wb['SHASA MAN']\n",
    "#sh['A5'].fill.start_color.index\n",
    "color_in_hex = sh['N5'].fill.start_color.index # this gives you Hexadecimal value of the color\n",
    "\n",
    "print ('HEX =',color_in_hex) \n",
    "# print('RGB =', tuple(int(color_in_hex[i:i+2], 16) for i in (0, 2, 4))) # Color in RGB\n",
    "sh[\"A1\"]\n"
   ]
  }
 ],
 "metadata": {
  "kernelspec": {
   "display_name": "Python 3.9.12 ('base')",
   "language": "python",
   "name": "python3"
  },
  "language_info": {
   "codemirror_mode": {
    "name": "ipython",
    "version": 3
   },
   "file_extension": ".py",
   "mimetype": "text/x-python",
   "name": "python",
   "nbconvert_exporter": "python",
   "pygments_lexer": "ipython3",
   "version": "3.9.12"
  },
  "orig_nbformat": 4,
  "vscode": {
   "interpreter": {
    "hash": "54d8efc0accedf8a71318180958b2a2c3ace073b5a0267b0b56f49dfe74d51c0"
   }
  }
 },
 "nbformat": 4,
 "nbformat_minor": 2
}
